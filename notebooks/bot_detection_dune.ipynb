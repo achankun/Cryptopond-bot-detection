import requests
import pandas as pd
import time

API_KEY = "API KEY DUNE"
QUERY_ID = QUERY DUNE


headers = {"x-dune-api-key": API_KEY}
exec_res = requests.post(
    f"https://api.dune.com/api/v1/query/{QUERY_ID}/execute",
    headers=headers
).json()

execution_id = exec_res["execution_id"]
print("Execution ID:", execution_id)


while True:
    status = requests.get(
        f"https://api.dune.com/api/v1/execution/{execution_id}/status",
        headers=headers
    ).json()
    state = status["state"]
    print("Status:", state)
    if state in ["QUERY_STATE_COMPLETED", "QUERY_STATE_FAILED"]:
        break
    time.sleep(5)

result = requests.get(
    f"https://api.dune.com/api/v1/execution/{execution_id}/results",
    headers=headers
).json()


df = pd.DataFrame(result["result"]["rows"])
df.to_csv("dune_results.csv", index=False)
print("✅ Data saved as dune_results.csv")
